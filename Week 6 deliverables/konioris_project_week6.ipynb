{
 "cells": [
  {
   "cell_type": "markdown",
   "id": "f0c64fa5",
   "metadata": {},
   "source": [
    "### Writing the utility python file"
   ]
  },
  {
   "cell_type": "code",
   "execution_count": 1,
   "id": "d0cb98ae",
   "metadata": {},
   "outputs": [
    {
     "name": "stdout",
     "output_type": "stream",
     "text": [
      "Overwriting testutility.py\n"
     ]
    }
   ],
   "source": [
    "%%writefile testutility.py\n",
    "import logging\n",
    "import os\n",
    "import subprocess\n",
    "import yaml\n",
    "import gc\n",
    "import re\n",
    "\n",
    "def read_config_file(filepath):\n",
    "    with open(filepath, 'r') as stream:\n",
    "        try:\n",
    "            return yaml.safe_load(stream)\n",
    "        except yaml.YAMLError as exc:\n",
    "            logging.error(exc)\n",
    "\n",
    "def col_header_val(df, table_config):\n",
    "    '''\n",
    "    replace whitespaces in the column\n",
    "    and standardized column names\n",
    "    '''\n",
    "    df.columns = df.columns.str.lower()\n",
    "    df.columns = df.columns.str.replace('[^\\w]','_', regex = True)\n",
    "    df.columns = list(map(lambda x: x.strip('_'), list(df.columns)))\n",
    "    df.columns = list(map(lambda x: replacer(x,'_'), list(df.columns)))\n",
    "    expected_col = list(map(lambda x: x.lower(), table_config['columns']))\n",
    "    expected_col.sort()\n",
    "    df.columns = list(map(lambda x: x.lower(), list(df.columns)))\n",
    "    df = df.reindex(sorted(df.columns), axis = 1)\n",
    "    if len(df.columns) == len(expected_col) and list(expected_col) == list(df.columns):\n",
    "        print(\"column name and column length validation passed\")\n",
    "        return 1\n",
    "    else:\n",
    "        print(\"column name and column length validation failed\")\n",
    "        mismatched_columns_file = list(set(df.columns).difference(expected_col))\n",
    "        print(\"Following File columns are not in the YAML file\", mismatched_columns_file)\n",
    "        missing_YAML_file = list(set(expected_col).difference(df.columns))\n",
    "        print(\"Following YAML columns are not in the file uploaded\", missing_YAML_file)\n",
    "        logging.info(f'df columns: {df.columns}')\n",
    "        logging.info(f'expected columns: {expected_col}')\n",
    "        return 0"
   ]
  },
  {
   "cell_type": "markdown",
   "id": "10d3ba46",
   "metadata": {},
   "source": [
    "### Writing the utility YAML file"
   ]
  },
  {
   "cell_type": "code",
   "execution_count": 2,
   "id": "cbe20677",
   "metadata": {},
   "outputs": [
    {
     "name": "stdout",
     "output_type": "stream",
     "text": [
      "Overwriting file.yaml\n"
     ]
    }
   ],
   "source": [
    "%%writefile file.yaml\n",
    "file_type: csv\n",
    "dataset_name: df_test\n",
    "file_name: survival_data\n",
    "inbound_delimiter: \",\"\n",
    "columns:\n",
    "    - Age_start_observed\n",
    "    - Age_end\n",
    "    - Truncated\n",
    "    - Censored\n",
    "    - Dead\n",
    "    - Date_start_observed\n",
    "    - Date_end_observed"
   ]
  },
  {
   "cell_type": "code",
   "execution_count": 3,
   "id": "d5cdc25f",
   "metadata": {},
   "outputs": [],
   "source": [
    "# Read config file\n",
    "import testutility as util\n",
    "config_data = util.read_config_file(\"file.yaml\")"
   ]
  },
  {
   "cell_type": "code",
   "execution_count": 4,
   "id": "78fd4dca",
   "metadata": {},
   "outputs": [
    {
     "data": {
      "text/plain": [
       "{'file_type': 'csv',\n",
       " 'dataset_name': 'df_test',\n",
       " 'file_name': 'survival_data',\n",
       " 'inbound_delimiter': ',',\n",
       " 'columns': ['Age_start_observed',\n",
       "  'Age_end',\n",
       "  'Truncated',\n",
       "  'Censored',\n",
       "  'Dead',\n",
       "  'Date_start_observed',\n",
       "  'Date_end_observed']}"
      ]
     },
     "execution_count": 4,
     "metadata": {},
     "output_type": "execute_result"
    }
   ],
   "source": [
    "# Show the config dictionary\n",
    "config_data"
   ]
  },
  {
   "cell_type": "code",
   "execution_count": 5,
   "id": "903fbb83",
   "metadata": {},
   "outputs": [
    {
     "data": {
      "text/html": [
       "<div>\n",
       "<style scoped>\n",
       "    .dataframe tbody tr th:only-of-type {\n",
       "        vertical-align: middle;\n",
       "    }\n",
       "\n",
       "    .dataframe tbody tr th {\n",
       "        vertical-align: top;\n",
       "    }\n",
       "\n",
       "    .dataframe thead th {\n",
       "        text-align: right;\n",
       "    }\n",
       "</style>\n",
       "<table border=\"1\" class=\"dataframe\">\n",
       "  <thead>\n",
       "    <tr style=\"text-align: right;\">\n",
       "      <th></th>\n",
       "      <th>Unnamed: 0</th>\n",
       "      <th>age_start_observed</th>\n",
       "      <th>age_end</th>\n",
       "      <th>is_truncated</th>\n",
       "      <th>is_censored</th>\n",
       "      <th>is_dead</th>\n",
       "      <th>date_start_observed</th>\n",
       "      <th>date_end_observed</th>\n",
       "    </tr>\n",
       "  </thead>\n",
       "  <tbody>\n",
       "    <tr>\n",
       "      <th>0</th>\n",
       "      <td>15113102</td>\n",
       "      <td>0.000000</td>\n",
       "      <td>9.097335</td>\n",
       "      <td>False</td>\n",
       "      <td>True</td>\n",
       "      <td>False</td>\n",
       "      <td>1908-11-17</td>\n",
       "      <td>1917-12-22</td>\n",
       "    </tr>\n",
       "    <tr>\n",
       "      <th>1</th>\n",
       "      <td>41505894</td>\n",
       "      <td>0.000000</td>\n",
       "      <td>64.486689</td>\n",
       "      <td>False</td>\n",
       "      <td>True</td>\n",
       "      <td>False</td>\n",
       "      <td>1828-09-13</td>\n",
       "      <td>1893-03-10</td>\n",
       "    </tr>\n",
       "    <tr>\n",
       "      <th>2</th>\n",
       "      <td>24774171</td>\n",
       "      <td>0.000000</td>\n",
       "      <td>33.071552</td>\n",
       "      <td>False</td>\n",
       "      <td>True</td>\n",
       "      <td>False</td>\n",
       "      <td>1911-02-07</td>\n",
       "      <td>1944-03-04</td>\n",
       "    </tr>\n",
       "    <tr>\n",
       "      <th>3</th>\n",
       "      <td>97834936</td>\n",
       "      <td>34.834566</td>\n",
       "      <td>68.778258</td>\n",
       "      <td>True</td>\n",
       "      <td>True</td>\n",
       "      <td>False</td>\n",
       "      <td>1820-01-01</td>\n",
       "      <td>1853-12-10</td>\n",
       "    </tr>\n",
       "    <tr>\n",
       "      <th>4</th>\n",
       "      <td>45793809</td>\n",
       "      <td>0.000000</td>\n",
       "      <td>95.948358</td>\n",
       "      <td>False</td>\n",
       "      <td>False</td>\n",
       "      <td>True</td>\n",
       "      <td>1870-05-29</td>\n",
       "      <td>1966-05-11</td>\n",
       "    </tr>\n",
       "  </tbody>\n",
       "</table>\n",
       "</div>"
      ],
      "text/plain": [
       "   Unnamed: 0  age_start_observed    age_end  is_truncated  is_censored  \\\n",
       "0    15113102            0.000000   9.097335         False         True   \n",
       "1    41505894            0.000000  64.486689         False         True   \n",
       "2    24774171            0.000000  33.071552         False         True   \n",
       "3    97834936           34.834566  68.778258          True         True   \n",
       "4    45793809            0.000000  95.948358         False        False   \n",
       "\n",
       "   is_dead date_start_observed date_end_observed  \n",
       "0    False          1908-11-17        1917-12-22  \n",
       "1    False          1828-09-13        1893-03-10  \n",
       "2    False          1911-02-07        1944-03-04  \n",
       "3    False          1820-01-01        1853-12-10  \n",
       "4     True          1870-05-29        1966-05-11  "
      ]
     },
     "execution_count": 5,
     "metadata": {},
     "output_type": "execute_result"
    }
   ],
   "source": [
    "# Reading the file using dask\n",
    "import dask.dataframe as dd\n",
    "df_sample = dd.read_csv('survival_data.csv')\n",
    "df_sample.head()"
   ]
  },
  {
   "cell_type": "code",
   "execution_count": 6,
   "id": "1d0fee80",
   "metadata": {
    "scrolled": true
   },
   "outputs": [
    {
     "name": "stdout",
     "output_type": "stream",
     "text": [
      "Wall time: 24.7 ms\n"
     ]
    }
   ],
   "source": [
    "# View the computational efficiency\n",
    "%time df_sample = dd.read_csv(\"survival_data.csv\")"
   ]
  },
  {
   "cell_type": "code",
   "execution_count": 7,
   "id": "5d64247a",
   "metadata": {
    "scrolled": true
   },
   "outputs": [
    {
     "data": {
      "text/html": [
       "<div>\n",
       "<style scoped>\n",
       "    .dataframe tbody tr th:only-of-type {\n",
       "        vertical-align: middle;\n",
       "    }\n",
       "\n",
       "    .dataframe tbody tr th {\n",
       "        vertical-align: top;\n",
       "    }\n",
       "\n",
       "    .dataframe thead th {\n",
       "        text-align: right;\n",
       "    }\n",
       "</style>\n",
       "<table border=\"1\" class=\"dataframe\">\n",
       "  <thead>\n",
       "    <tr style=\"text-align: right;\">\n",
       "      <th></th>\n",
       "      <th>Unnamed: 0</th>\n",
       "      <th>age_start_observed</th>\n",
       "      <th>age_end</th>\n",
       "      <th>is_truncated</th>\n",
       "      <th>is_censored</th>\n",
       "      <th>is_dead</th>\n",
       "      <th>date_start_observed</th>\n",
       "      <th>date_end_observed</th>\n",
       "    </tr>\n",
       "  </thead>\n",
       "  <tbody>\n",
       "    <tr>\n",
       "      <th>0</th>\n",
       "      <td>15113102</td>\n",
       "      <td>0.000000</td>\n",
       "      <td>9.097335</td>\n",
       "      <td>False</td>\n",
       "      <td>True</td>\n",
       "      <td>False</td>\n",
       "      <td>1908-11-17</td>\n",
       "      <td>1917-12-22</td>\n",
       "    </tr>\n",
       "    <tr>\n",
       "      <th>1</th>\n",
       "      <td>41505894</td>\n",
       "      <td>0.000000</td>\n",
       "      <td>64.486689</td>\n",
       "      <td>False</td>\n",
       "      <td>True</td>\n",
       "      <td>False</td>\n",
       "      <td>1828-09-13</td>\n",
       "      <td>1893-03-10</td>\n",
       "    </tr>\n",
       "    <tr>\n",
       "      <th>2</th>\n",
       "      <td>24774171</td>\n",
       "      <td>0.000000</td>\n",
       "      <td>33.071552</td>\n",
       "      <td>False</td>\n",
       "      <td>True</td>\n",
       "      <td>False</td>\n",
       "      <td>1911-02-07</td>\n",
       "      <td>1944-03-04</td>\n",
       "    </tr>\n",
       "    <tr>\n",
       "      <th>3</th>\n",
       "      <td>97834936</td>\n",
       "      <td>34.834566</td>\n",
       "      <td>68.778258</td>\n",
       "      <td>True</td>\n",
       "      <td>True</td>\n",
       "      <td>False</td>\n",
       "      <td>1820-01-01</td>\n",
       "      <td>1853-12-10</td>\n",
       "    </tr>\n",
       "    <tr>\n",
       "      <th>4</th>\n",
       "      <td>45793809</td>\n",
       "      <td>0.000000</td>\n",
       "      <td>95.948358</td>\n",
       "      <td>False</td>\n",
       "      <td>False</td>\n",
       "      <td>True</td>\n",
       "      <td>1870-05-29</td>\n",
       "      <td>1966-05-11</td>\n",
       "    </tr>\n",
       "  </tbody>\n",
       "</table>\n",
       "</div>"
      ],
      "text/plain": [
       "   Unnamed: 0  age_start_observed    age_end  is_truncated  is_censored  \\\n",
       "0    15113102            0.000000   9.097335         False         True   \n",
       "1    41505894            0.000000  64.486689         False         True   \n",
       "2    24774171            0.000000  33.071552         False         True   \n",
       "3    97834936           34.834566  68.778258          True         True   \n",
       "4    45793809            0.000000  95.948358         False        False   \n",
       "\n",
       "   is_dead date_start_observed date_end_observed  \n",
       "0    False          1908-11-17        1917-12-22  \n",
       "1    False          1828-09-13        1893-03-10  \n",
       "2    False          1911-02-07        1944-03-04  \n",
       "3    False          1820-01-01        1853-12-10  \n",
       "4     True          1870-05-29        1966-05-11  "
      ]
     },
     "execution_count": 7,
     "metadata": {},
     "output_type": "execute_result"
    }
   ],
   "source": [
    "# Read the file using config file\n",
    "file_type = config_data['file_type']\n",
    "source_file = \"./\" + config_data['file_name'] + f'.{file_type}'\n",
    "df_test = dd.read_csv(source_file)\n",
    "df_test.head()"
   ]
  },
  {
   "cell_type": "code",
   "execution_count": 8,
   "id": "5b17626a",
   "metadata": {},
   "outputs": [
    {
     "data": {
      "text/html": [
       "<div><strong>Dask DataFrame Structure:</strong></div>\n",
       "<div>\n",
       "<style scoped>\n",
       "    .dataframe tbody tr th:only-of-type {\n",
       "        vertical-align: middle;\n",
       "    }\n",
       "\n",
       "    .dataframe tbody tr th {\n",
       "        vertical-align: top;\n",
       "    }\n",
       "\n",
       "    .dataframe thead th {\n",
       "        text-align: right;\n",
       "    }\n",
       "</style>\n",
       "<table border=\"1\" class=\"dataframe\">\n",
       "  <thead>\n",
       "    <tr style=\"text-align: right;\">\n",
       "      <th></th>\n",
       "      <th>Age_start_observed</th>\n",
       "      <th>Age_end</th>\n",
       "      <th>Truncated</th>\n",
       "      <th>Censored</th>\n",
       "      <th>Dead</th>\n",
       "      <th>Date_start_observed</th>\n",
       "      <th>Date_end_observed</th>\n",
       "    </tr>\n",
       "    <tr>\n",
       "      <th>npartitions=102</th>\n",
       "      <th></th>\n",
       "      <th></th>\n",
       "      <th></th>\n",
       "      <th></th>\n",
       "      <th></th>\n",
       "      <th></th>\n",
       "      <th></th>\n",
       "    </tr>\n",
       "  </thead>\n",
       "  <tbody>\n",
       "    <tr>\n",
       "      <th></th>\n",
       "      <td>float64</td>\n",
       "      <td>float64</td>\n",
       "      <td>bool</td>\n",
       "      <td>bool</td>\n",
       "      <td>bool</td>\n",
       "      <td>object</td>\n",
       "      <td>object</td>\n",
       "    </tr>\n",
       "    <tr>\n",
       "      <th></th>\n",
       "      <td>...</td>\n",
       "      <td>...</td>\n",
       "      <td>...</td>\n",
       "      <td>...</td>\n",
       "      <td>...</td>\n",
       "      <td>...</td>\n",
       "      <td>...</td>\n",
       "    </tr>\n",
       "    <tr>\n",
       "      <th>...</th>\n",
       "      <td>...</td>\n",
       "      <td>...</td>\n",
       "      <td>...</td>\n",
       "      <td>...</td>\n",
       "      <td>...</td>\n",
       "      <td>...</td>\n",
       "      <td>...</td>\n",
       "    </tr>\n",
       "    <tr>\n",
       "      <th></th>\n",
       "      <td>...</td>\n",
       "      <td>...</td>\n",
       "      <td>...</td>\n",
       "      <td>...</td>\n",
       "      <td>...</td>\n",
       "      <td>...</td>\n",
       "      <td>...</td>\n",
       "    </tr>\n",
       "    <tr>\n",
       "      <th></th>\n",
       "      <td>...</td>\n",
       "      <td>...</td>\n",
       "      <td>...</td>\n",
       "      <td>...</td>\n",
       "      <td>...</td>\n",
       "      <td>...</td>\n",
       "      <td>...</td>\n",
       "    </tr>\n",
       "  </tbody>\n",
       "</table>\n",
       "</div>\n",
       "<div>Dask Name: drop_by_shallow_copy, 306 tasks</div>"
      ],
      "text/plain": [
       "Dask DataFrame Structure:\n",
       "                Age_start_observed  Age_end Truncated Censored  Dead Date_start_observed Date_end_observed\n",
       "npartitions=102                                                                                           \n",
       "                           float64  float64      bool     bool  bool              object            object\n",
       "                               ...      ...       ...      ...   ...                 ...               ...\n",
       "...                            ...      ...       ...      ...   ...                 ...               ...\n",
       "                               ...      ...       ...      ...   ...                 ...               ...\n",
       "                               ...      ...       ...      ...   ...                 ...               ...\n",
       "Dask Name: drop_by_shallow_copy, 306 tasks"
      ]
     },
     "execution_count": 8,
     "metadata": {},
     "output_type": "execute_result"
    }
   ],
   "source": [
    "# Making some changes in the dataframe\n",
    "df = df_test.rename(columns = {\"age_start_observed\": \"Age_start_observed\", \"age_end\": \"Age_end\", \"is_truncated\" : \"Truncated\", \"is_censored\": \"Censored\", \"is_dead\" : \"Dead\", \"date_start_observed\" : \"Date_start_observed\", \"date_end_observed\" : \"Date_end_observed\"})\n",
    "df = df.drop('Unnamed: 0', axis = 1)\n",
    "df"
   ]
  },
  {
   "cell_type": "code",
   "execution_count": 9,
   "id": "c2d3254c",
   "metadata": {},
   "outputs": [
    {
     "data": {
      "text/plain": [
       "Age_start_observed     0\n",
       "Age_end                0\n",
       "Truncated              0\n",
       "Censored               0\n",
       "Dead                   0\n",
       "Date_start_observed    0\n",
       "Date_end_observed      0\n",
       "dtype: int64"
      ]
     },
     "execution_count": 9,
     "metadata": {},
     "output_type": "execute_result"
    }
   ],
   "source": [
    "# Always checking for missing values\n",
    "df.isnull().sum().compute()"
   ]
  },
  {
   "cell_type": "markdown",
   "id": "964b9511",
   "metadata": {},
   "source": [
    "### Something get wrong with the code in the following line"
   ]
  },
  {
   "cell_type": "code",
   "execution_count": 10,
   "id": "5f46d347",
   "metadata": {},
   "outputs": [],
   "source": [
    "#util.col_header_val(df, config_data)"
   ]
  },
  {
   "cell_type": "code",
   "execution_count": 11,
   "id": "f1fcf43b",
   "metadata": {},
   "outputs": [
    {
     "name": "stdout",
     "output_type": "stream",
     "text": [
      "columns of files are: Index(['Age_start_observed', 'Age_end', 'Truncated', 'Censored', 'Dead',\n",
      "       'Date_start_observed', 'Date_end_observed'],\n",
      "      dtype='object')\n",
      "columns of YAML are: ['Age_start_observed', 'Age_end', 'Truncated', 'Censored', 'Dead', 'Date_start_observed', 'Date_end_observed']\n"
     ]
    }
   ],
   "source": [
    "# Validate number of columns and column names\n",
    "print(\"columns of files are:\" ,df.columns)\n",
    "print(\"columns of YAML are:\" ,config_data['columns'])"
   ]
  },
  {
   "cell_type": "markdown",
   "id": "e9096a2f",
   "metadata": {},
   "source": [
    "### As we can see, they have the same amount of columns. The names of them are also the same."
   ]
  },
  {
   "cell_type": "code",
   "execution_count": 12,
   "id": "604d269b",
   "metadata": {},
   "outputs": [],
   "source": [
    "# Create the csv file into text file\n",
    "import csv\n",
    "with open('survival_data.txt', \"w\") as my_output_file:\n",
    "    with open('survival_data.csv', \"r\") as my_input_file:\n",
    "        [ my_output_file.write(\" \".join(row)+'\\n') for row in csv.reader(my_input_file)]\n",
    "    my_output_file.close()"
   ]
  },
  {
   "cell_type": "code",
   "execution_count": 13,
   "id": "3dd95898",
   "metadata": {},
   "outputs": [],
   "source": [
    "# Create the text seperated file into gz format\n",
    "import gzip\n",
    "import shutil\n",
    "with open('survival_data.txt', 'rb') as f_in, gzip.open('survival_data.gz', 'wb') as f_out:\n",
    "    shutil.copyfileobj(f_in, f_out)"
   ]
  },
  {
   "cell_type": "code",
   "execution_count": 14,
   "id": "15668d01",
   "metadata": {},
   "outputs": [
    {
     "data": {
      "text/html": [
       "<div>\n",
       "<style scoped>\n",
       "    .dataframe tbody tr th:only-of-type {\n",
       "        vertical-align: middle;\n",
       "    }\n",
       "\n",
       "    .dataframe tbody tr th {\n",
       "        vertical-align: top;\n",
       "    }\n",
       "\n",
       "    .dataframe thead th {\n",
       "        text-align: right;\n",
       "    }\n",
       "</style>\n",
       "<table border=\"1\" class=\"dataframe\">\n",
       "  <thead>\n",
       "    <tr style=\"text-align: right;\">\n",
       "      <th></th>\n",
       "      <th>Age_start_observed</th>\n",
       "      <th>Age_end</th>\n",
       "      <th>Truncated</th>\n",
       "      <th>Censored</th>\n",
       "      <th>Dead</th>\n",
       "      <th>Date_start_observed</th>\n",
       "      <th>Date_end_observed</th>\n",
       "    </tr>\n",
       "  </thead>\n",
       "  <tbody>\n",
       "    <tr>\n",
       "      <th>0</th>\n",
       "      <td>0.000000</td>\n",
       "      <td>9.097335</td>\n",
       "      <td>False</td>\n",
       "      <td>True</td>\n",
       "      <td>False</td>\n",
       "      <td>1908-11-17</td>\n",
       "      <td>1917-12-22</td>\n",
       "    </tr>\n",
       "    <tr>\n",
       "      <th>1</th>\n",
       "      <td>0.000000</td>\n",
       "      <td>64.486689</td>\n",
       "      <td>False</td>\n",
       "      <td>True</td>\n",
       "      <td>False</td>\n",
       "      <td>1828-09-13</td>\n",
       "      <td>1893-03-10</td>\n",
       "    </tr>\n",
       "    <tr>\n",
       "      <th>2</th>\n",
       "      <td>0.000000</td>\n",
       "      <td>33.071552</td>\n",
       "      <td>False</td>\n",
       "      <td>True</td>\n",
       "      <td>False</td>\n",
       "      <td>1911-02-07</td>\n",
       "      <td>1944-03-04</td>\n",
       "    </tr>\n",
       "    <tr>\n",
       "      <th>3</th>\n",
       "      <td>34.834566</td>\n",
       "      <td>68.778258</td>\n",
       "      <td>True</td>\n",
       "      <td>True</td>\n",
       "      <td>False</td>\n",
       "      <td>1820-01-01</td>\n",
       "      <td>1853-12-10</td>\n",
       "    </tr>\n",
       "    <tr>\n",
       "      <th>4</th>\n",
       "      <td>0.000000</td>\n",
       "      <td>95.948358</td>\n",
       "      <td>False</td>\n",
       "      <td>False</td>\n",
       "      <td>True</td>\n",
       "      <td>1870-05-29</td>\n",
       "      <td>1966-05-11</td>\n",
       "    </tr>\n",
       "    <tr>\n",
       "      <th>...</th>\n",
       "      <td>...</td>\n",
       "      <td>...</td>\n",
       "      <td>...</td>\n",
       "      <td>...</td>\n",
       "      <td>...</td>\n",
       "      <td>...</td>\n",
       "      <td>...</td>\n",
       "    </tr>\n",
       "    <tr>\n",
       "      <th>837199</th>\n",
       "      <td>8.053810</td>\n",
       "      <td>53.177762</td>\n",
       "      <td>True</td>\n",
       "      <td>True</td>\n",
       "      <td>False</td>\n",
       "      <td>1820-01-01</td>\n",
       "      <td>1865-02-14</td>\n",
       "    </tr>\n",
       "    <tr>\n",
       "      <th>837200</th>\n",
       "      <td>0.000000</td>\n",
       "      <td>1.344027</td>\n",
       "      <td>False</td>\n",
       "      <td>True</td>\n",
       "      <td>False</td>\n",
       "      <td>1857-02-09</td>\n",
       "      <td>1858-06-15</td>\n",
       "    </tr>\n",
       "    <tr>\n",
       "      <th>837201</th>\n",
       "      <td>0.000000</td>\n",
       "      <td>30.505584</td>\n",
       "      <td>False</td>\n",
       "      <td>False</td>\n",
       "      <td>True</td>\n",
       "      <td>1833-12-24</td>\n",
       "      <td>1864-06-26</td>\n",
       "    </tr>\n",
       "    <tr>\n",
       "      <th>837202</th>\n",
       "      <td>0.000000</td>\n",
       "      <td>24.268282</td>\n",
       "      <td>False</td>\n",
       "      <td>False</td>\n",
       "      <td>True</td>\n",
       "      <td>1900-04-27</td>\n",
       "      <td>1924-08-03</td>\n",
       "    </tr>\n",
       "    <tr>\n",
       "      <th>837203</th>\n",
       "      <td>0.000000</td>\n",
       "      <td>5.231061</td>\n",
       "      <td>False</td>\n",
       "      <td>True</td>\n",
       "      <td>False</td>\n",
       "      <td>1841-08-07</td>\n",
       "      <td>1846-10-30</td>\n",
       "    </tr>\n",
       "  </tbody>\n",
       "</table>\n",
       "<p>88809774 rows × 7 columns</p>\n",
       "</div>"
      ],
      "text/plain": [
       "        Age_start_observed    Age_end  Truncated  Censored   Dead  \\\n",
       "0                 0.000000   9.097335      False      True  False   \n",
       "1                 0.000000  64.486689      False      True  False   \n",
       "2                 0.000000  33.071552      False      True  False   \n",
       "3                34.834566  68.778258       True      True  False   \n",
       "4                 0.000000  95.948358      False     False   True   \n",
       "...                    ...        ...        ...       ...    ...   \n",
       "837199            8.053810  53.177762       True      True  False   \n",
       "837200            0.000000   1.344027      False      True  False   \n",
       "837201            0.000000  30.505584      False     False   True   \n",
       "837202            0.000000  24.268282      False     False   True   \n",
       "837203            0.000000   5.231061      False      True  False   \n",
       "\n",
       "       Date_start_observed Date_end_observed  \n",
       "0               1908-11-17        1917-12-22  \n",
       "1               1828-09-13        1893-03-10  \n",
       "2               1911-02-07        1944-03-04  \n",
       "3               1820-01-01        1853-12-10  \n",
       "4               1870-05-29        1966-05-11  \n",
       "...                    ...               ...  \n",
       "837199          1820-01-01        1865-02-14  \n",
       "837200          1857-02-09        1858-06-15  \n",
       "837201          1833-12-24        1864-06-26  \n",
       "837202          1900-04-27        1924-08-03  \n",
       "837203          1841-08-07        1846-10-30  \n",
       "\n",
       "[88809774 rows x 7 columns]"
      ]
     },
     "execution_count": 14,
     "metadata": {},
     "output_type": "execute_result"
    }
   ],
   "source": [
    "df.compute()"
   ]
  },
  {
   "cell_type": "markdown",
   "id": "0c6404b3",
   "metadata": {},
   "source": [
    "### There are 88.809.774 rows and 7 columns in the csv file"
   ]
  },
  {
   "cell_type": "code",
   "execution_count": 15,
   "id": "5a2431ca",
   "metadata": {},
   "outputs": [
    {
     "name": "stdout",
     "output_type": "stream",
     "text": [
      "File size: 6525517581 bytes\n"
     ]
    }
   ],
   "source": [
    "import os\n",
    "\n",
    "def get_file_size(file_path):\n",
    "    size = os.path.getsize(file_path)\n",
    "    return size\n",
    " \n",
    "file_path = 'survival_data.csv'\n",
    "size = get_file_size(file_path)\n",
    "print('File size: '+ str(size) +' bytes')"
   ]
  },
  {
   "cell_type": "markdown",
   "id": "94cb6e20",
   "metadata": {},
   "source": [
    "### This file is 6.525.517.581 bytes!"
   ]
  }
 ],
 "metadata": {
  "kernelspec": {
   "display_name": "Python 3",
   "language": "python",
   "name": "python3"
  },
  "language_info": {
   "codemirror_mode": {
    "name": "ipython",
    "version": 3
   },
   "file_extension": ".py",
   "mimetype": "text/x-python",
   "name": "python",
   "nbconvert_exporter": "python",
   "pygments_lexer": "ipython3",
   "version": "3.8.11"
  }
 },
 "nbformat": 4,
 "nbformat_minor": 5
}
